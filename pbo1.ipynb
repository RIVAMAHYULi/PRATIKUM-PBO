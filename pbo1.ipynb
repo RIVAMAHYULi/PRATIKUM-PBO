{
  "nbformat": 4,
  "nbformat_minor": 0,
  "metadata": {
    "colab": {
      "name": "pbo1.ipynb",
      "provenance": []
    },
    "kernelspec": {
      "name": "python3",
      "display_name": "Python 3"
    },
    "language_info": {
      "name": "python"
    }
  },
  "cells": [
    {
      "cell_type": "code",
      "execution_count": null,
      "metadata": {
        "colab": {
          "base_uri": "https://localhost:8080/"
        },
        "id": "n_CqIK6x1cDH",
        "outputId": "f9ca600e-cceb-4726-f8ed-42395b559474"
      },
      "outputs": [
        {
          "output_type": "stream",
          "name": "stdout",
          "text": [
            "enter a number: 1\n",
            "1234\n"
          ]
        }
      ],
      "source": [
        "def message (number):\n",
        "  print(\"enter a number:\",number)\n",
        "\n",
        "number = 1234\n",
        "message(1)\n",
        "print(number)"
      ]
    },
    {
      "cell_type": "code",
      "source": [
        "def message (what,number):\n",
        "  print(\"enter\",what,\"number\",number)\n",
        "\n",
        "#invoke the function\n",
        "message(\"telephone\",11)\n",
        "message(\"price\",5)\n",
        "message(\"number\", \"number\")"
      ],
      "metadata": {
        "colab": {
          "base_uri": "https://localhost:8080/"
        },
        "id": "krGL6ETT2WWA",
        "outputId": "cde9edbb-8c6d-4162-94a5-c1be80fa5bbd"
      },
      "execution_count": null,
      "outputs": [
        {
          "output_type": "stream",
          "name": "stdout",
          "text": [
            "enter telephone number 11\n",
            "enter price number 5\n",
            "enter number number number\n"
          ]
        }
      ]
    },
    {
      "cell_type": "code",
      "source": [
        "def my_function(a ,b ,c):\n",
        "  print(a,b,c)\n",
        "\n",
        "my_function(1 ,2 ,3)\n",
        "\n",
        "def introduction(first_name, last_name):\n",
        "  print(\"hello,my name is\",first_name ,last_name)\n",
        "\n",
        "introduction(\"skywalker\", \"luke\")\n",
        "introduction(\"quick\",\"jesse\")\n",
        "introduction(\"kent\",\"clark\")\n",
        "\n",
        "def introduction(first_name,last_name):\n",
        "  print(\"hello,my name is\",first_name , last_name)\n",
        "\n",
        "introduction(\"luke\",\"skywalker\")\n",
        "introduction(\"jesse\",\"quick\")\n",
        "introduction(\"clark\",\"kent\")"
      ],
      "metadata": {
        "colab": {
          "base_uri": "https://localhost:8080/"
        },
        "id": "bPLmXQel3efd",
        "outputId": "87adf675-1f80-4f9f-b52d-fdcfe1439788"
      },
      "execution_count": null,
      "outputs": [
        {
          "output_type": "stream",
          "name": "stdout",
          "text": [
            "1 2 3\n",
            "hello,my name is skywalker luke\n",
            "hello,my name is quick jesse\n",
            "hello,my name is kent clark\n",
            "hello,my name is luke skywalker\n",
            "hello,my name is jesse quick\n",
            "hello,my name is clark kent\n"
          ]
        }
      ]
    },
    {
      "cell_type": "code",
      "source": [
        "def introduction(first_name,last_name):\n",
        "  print(\"hello,my name is\",first_name , last_name)\n",
        "\n",
        "introduction(first_name =\"james\",last_name =\"bond\")\n",
        "introduction(first_name =\"skywalker\",last_name =\"luke\")"
      ],
      "metadata": {
        "colab": {
          "base_uri": "https://localhost:8080/"
        },
        "id": "7VLBoLJS56Fx",
        "outputId": "7e1beaf3-a4f0-410c-ef96-acedd63a5bb5"
      },
      "execution_count": null,
      "outputs": [
        {
          "output_type": "stream",
          "name": "stdout",
          "text": [
            "hello,my name is james bond\n",
            "hello,my name is skywalker luke\n"
          ]
        }
      ]
    },
    {
      "cell_type": "code",
      "source": [
        "def adding(a ,b ,c):\n",
        "  print(a,\"+\",b,\"+\",c,\"=\",a+b+c)\n",
        "\n",
        "#call the adding function here\n",
        "adding(1,2,3)\n",
        "adding(c=1, a=2 ,b=3)\n",
        "adding(3 , c = 1 ,b = 2)\n",
        "adding(4,3, c = 2)"
      ],
      "metadata": {
        "colab": {
          "base_uri": "https://localhost:8080/"
        },
        "id": "_FtbU6ZS6Xom",
        "outputId": "92c96a57-ed0d-4deb-c2fa-b01af29023e6"
      },
      "execution_count": null,
      "outputs": [
        {
          "output_type": "stream",
          "name": "stdout",
          "text": [
            "1 + 2 + 3 = 6\n",
            "2 + 3 + 1 = 6\n",
            "3 + 2 + 1 = 6\n",
            "4 + 3 + 2 = 9\n"
          ]
        }
      ]
    },
    {
      "cell_type": "code",
      "source": [
        "#1\n",
        "def list_sum(lst):\n",
        "  s = 0\n",
        "\n",
        "  for elem in lst:\n",
        "      s += elem\n",
        "\n",
        "  return s\n",
        "print(list_sum([5, 4, 3]))\n",
        "\n",
        "#2\n",
        "def list_sum(lst):\n",
        "  s= 0\n",
        "\n",
        "  for elem in lst:\n",
        "      s += elem\n",
        "  return s\n",
        "print(list_sum(5))\n",
        "\n"
      ],
      "metadata": {
        "colab": {
          "base_uri": "https://localhost:8080/",
          "height": 346
        },
        "id": "LLXFtqW_7RLW",
        "outputId": "140ae09e-432f-45ce-abd6-ba14a8e68537"
      },
      "execution_count": 27,
      "outputs": [
        {
          "output_type": "stream",
          "name": "stdout",
          "text": [
            "12\n"
          ]
        },
        {
          "output_type": "error",
          "ename": "TypeError",
          "evalue": "ignored",
          "traceback": [
            "\u001b[0;31m---------------------------------------------------------------------------\u001b[0m",
            "\u001b[0;31mTypeError\u001b[0m                                 Traceback (most recent call last)",
            "\u001b[0;32m<ipython-input-27-c3cf6de7f8c1>\u001b[0m in \u001b[0;36m<module>\u001b[0;34m()\u001b[0m\n\u001b[1;32m     16\u001b[0m       \u001b[0ms\u001b[0m \u001b[0;34m+=\u001b[0m \u001b[0melem\u001b[0m\u001b[0;34m\u001b[0m\u001b[0;34m\u001b[0m\u001b[0m\n\u001b[1;32m     17\u001b[0m   \u001b[0;32mreturn\u001b[0m \u001b[0ms\u001b[0m\u001b[0;34m\u001b[0m\u001b[0;34m\u001b[0m\u001b[0m\n\u001b[0;32m---> 18\u001b[0;31m \u001b[0mprint\u001b[0m\u001b[0;34m(\u001b[0m\u001b[0mlist_sum\u001b[0m\u001b[0;34m(\u001b[0m\u001b[0;36m5\u001b[0m\u001b[0;34m)\u001b[0m\u001b[0;34m)\u001b[0m\u001b[0;34m\u001b[0m\u001b[0;34m\u001b[0m\u001b[0m\n\u001b[0m\u001b[1;32m     19\u001b[0m \u001b[0;34m\u001b[0m\u001b[0m\n",
            "\u001b[0;32m<ipython-input-27-c3cf6de7f8c1>\u001b[0m in \u001b[0;36mlist_sum\u001b[0;34m(lst)\u001b[0m\n\u001b[1;32m     13\u001b[0m   \u001b[0ms\u001b[0m\u001b[0;34m=\u001b[0m \u001b[0;36m0\u001b[0m\u001b[0;34m\u001b[0m\u001b[0;34m\u001b[0m\u001b[0m\n\u001b[1;32m     14\u001b[0m \u001b[0;34m\u001b[0m\u001b[0m\n\u001b[0;32m---> 15\u001b[0;31m   \u001b[0;32mfor\u001b[0m \u001b[0melem\u001b[0m \u001b[0;32min\u001b[0m \u001b[0mlst\u001b[0m\u001b[0;34m:\u001b[0m\u001b[0;34m\u001b[0m\u001b[0;34m\u001b[0m\u001b[0m\n\u001b[0m\u001b[1;32m     16\u001b[0m       \u001b[0ms\u001b[0m \u001b[0;34m+=\u001b[0m \u001b[0melem\u001b[0m\u001b[0;34m\u001b[0m\u001b[0;34m\u001b[0m\u001b[0m\n\u001b[1;32m     17\u001b[0m   \u001b[0;32mreturn\u001b[0m \u001b[0ms\u001b[0m\u001b[0;34m\u001b[0m\u001b[0;34m\u001b[0m\u001b[0m\n",
            "\u001b[0;31mTypeError\u001b[0m: 'int' object is not iterable"
          ]
        }
      ]
    },
    {
      "cell_type": "code",
      "source": [
        "def bmi(weight , height):\n",
        "  return weight/height **2\n",
        "\n",
        "print(bmi(52.5 , 16.5))"
      ],
      "metadata": {
        "colab": {
          "base_uri": "https://localhost:8080/"
        },
        "id": "RVSvf7rwXLNG",
        "outputId": "4fea0005-f1b5-4c59-88ba-7d2b2e96921f"
      },
      "execution_count": 3,
      "outputs": [
        {
          "output_type": "stream",
          "name": "stdout",
          "text": [
            "0.1928374655647383\n"
          ]
        }
      ]
    },
    {
      "cell_type": "code",
      "source": [
        "#1\n",
        "def is_a_triangle(a ,b ,c):\n",
        "  if a + b <= c:\n",
        "    return False\n",
        "  if b + c <= a:\n",
        "    return False\n",
        "  if c + a <= b :\n",
        "    return False\n",
        "  return True\n",
        "\n",
        "print(is_a_triangle(1,1,1))\n",
        "print(is_a_triangle(1,1,3))\n",
        "#2\n",
        "def is_a_triangle(a, b, c):\n",
        "  return a + b > c and  b + c > a and c + a > b\n",
        "\n",
        "print(is_a_triangle(1,1,1))\n",
        "print(is_a_triangle(1,1,3))\n",
        "#3\n",
        "def is_a_triangle(a, b, c):\n",
        "  if a + b <= c or  b + c <= a or c + a <= b:\n",
        "    return False\n",
        "  return True\n",
        "\n",
        "print(is_a_triangle(1,1,1))\n",
        "print(is_a_triangle(1,1,3))"
      ],
      "metadata": {
        "id": "8clglKnJ9Xo8",
        "colab": {
          "base_uri": "https://localhost:8080/"
        },
        "outputId": "fc936c91-7923-44a3-8dec-142a7cc29141"
      },
      "execution_count": 7,
      "outputs": [
        {
          "output_type": "stream",
          "name": "stdout",
          "text": [
            "True\n",
            "False\n",
            "True\n",
            "False\n",
            "True\n",
            "False\n"
          ]
        }
      ]
    },
    {
      "cell_type": "code",
      "source": [
        "def is_a_triangle(a, b, c):\n",
        "  return a + b > c and  b + c > a and c + a > b\n",
        "\n",
        "def heron(a, b ,c):\n",
        "  p =(a + b + c)/2\n",
        "  return(p*(p-a)*(p-b)*(p-c)) **0.5\n",
        "\n",
        "def area_of_triangle(a ,b , c):\n",
        "  if not is_a_triangle(a,b,c):\n",
        "    return heron(a,b,c)\n",
        "\n",
        "print(area_of_triangle(1. ,1. ,2. ** .5))"
      ],
      "metadata": {
        "colab": {
          "base_uri": "https://localhost:8080/"
        },
        "id": "gy94QmABY-sE",
        "outputId": "fb365586-22ea-4ccc-df76-0ca5cee30f15"
      },
      "execution_count": 8,
      "outputs": [
        {
          "output_type": "stream",
          "name": "stdout",
          "text": [
            "None\n"
          ]
        }
      ]
    },
    {
      "cell_type": "code",
      "source": [
        "my_tuple = tuple((1,2,\"string\"))\n",
        "print(my_tuple)\n",
        "\n",
        "my_list = [2,4,6]\n",
        "print(my_list)             #outputs: [2,4,6]\n",
        "print(tuple(my_list))   #output: <class 'list>\n",
        "tup = tuple(my_list)  \n",
        "print(tup)        #output: (2,4,6)\n",
        "print(type(tup))    #output:<class 'tuple'>"
      ],
      "metadata": {
        "colab": {
          "base_uri": "https://localhost:8080/"
        },
        "id": "mSSQjsImc1v_",
        "outputId": "add6ef07-dcd5-4681-8bc1-7107e3652ac2"
      },
      "execution_count": 9,
      "outputs": [
        {
          "output_type": "stream",
          "name": "stdout",
          "text": [
            "(1, 2, 'string')\n",
            "[2, 4, 6]\n",
            "(2, 4, 6)\n",
            "(2, 4, 6)\n",
            "<class 'tuple'>\n"
          ]
        }
      ]
    },
    {
      "cell_type": "code",
      "source": [
        "my_tuple = ( 1, 10 ,100)\n",
        "t1 = my_tuple + (1000,10000)\n",
        "t2 = my_tuple * 3\n",
        "\n",
        "print(len(t2))\n",
        "print(t1)\n",
        "print(t2)\n",
        "print(10 in my_tuple)\n",
        "print(-10 not in my_tuple)\n"
      ],
      "metadata": {
        "colab": {
          "base_uri": "https://localhost:8080/"
        },
        "id": "FtmVQU84fYrz",
        "outputId": "372f0a03-0edf-4120-85ba-3ebc1d9e1b23"
      },
      "execution_count": 10,
      "outputs": [
        {
          "output_type": "stream",
          "name": "stdout",
          "text": [
            "9\n",
            "(1, 10, 100, 1000, 10000)\n",
            "(1, 10, 100, 1, 10, 100, 1, 10, 100)\n",
            "True\n",
            "True\n"
          ]
        }
      ]
    },
    {
      "cell_type": "code",
      "source": [
        "dictionary ={\"cat\":\"chat\" ,\"dog\" : \"chien\" ,\"horse\" :\"cheval\"}\n",
        "phone_numbers = {\"boss \": 5551234567, \"suzy\" : 2265785431}\n",
        "empty_dictionary = {}\n",
        "#print the value here\n",
        "print(dictionary['cat'])\n",
        "print(phone_numbers['suzy'])"
      ],
      "metadata": {
        "colab": {
          "base_uri": "https://localhost:8080/"
        },
        "id": "TocopPqcgwgd",
        "outputId": "9f555e0b-bd4d-437d-e8cd-e6197eacd5c9"
      },
      "execution_count": 18,
      "outputs": [
        {
          "output_type": "stream",
          "name": "stdout",
          "text": [
            "chat\n",
            "2265785431\n"
          ]
        }
      ]
    },
    {
      "cell_type": "code",
      "source": [
        "dictionary ={\"cat,\":\"chat\" ,\"dog\" : \"chien\" ,\"horse\" :\"cheval\"}\n",
        "for key in dictionary.keys():\n",
        "  print(key, \"->\" ,dictionary[key])"
      ],
      "metadata": {
        "colab": {
          "base_uri": "https://localhost:8080/"
        },
        "id": "ppOhB3zJiHeR",
        "outputId": "440cd0d1-e10f-4bfb-bb48-963c7815e117"
      },
      "execution_count": 12,
      "outputs": [
        {
          "output_type": "stream",
          "name": "stdout",
          "text": [
            "cat, -> chat\n",
            "dog -> chien\n",
            "horse -> cheval\n"
          ]
        }
      ]
    },
    {
      "cell_type": "code",
      "source": [
        "dictionary ={\"cat,\":\"chat\" ,\"dog\" : \"chien\" ,\"horse\" :\"cheval\"}\n",
        "words = ['cat' ,'lion' ,'horse']\n",
        "for word in words:\n",
        "  if word in dictionary:\n",
        "    print(word, \"->\", dictionary[word])\n",
        "  else:\n",
        "    print(word,\"is not in dictionary\")"
      ],
      "metadata": {
        "colab": {
          "base_uri": "https://localhost:8080/"
        },
        "id": "-8aXRPi5ilBa",
        "outputId": "58ffc2ba-ef44-4c54-d76c-4a17456c25a1"
      },
      "execution_count": 13,
      "outputs": [
        {
          "output_type": "stream",
          "name": "stdout",
          "text": [
            "cat is not in dictionary\n",
            "lion is not in dictionary\n",
            "horse -> cheval\n"
          ]
        }
      ]
    },
    {
      "cell_type": "code",
      "source": [
        "while True:\n",
        "  name = input(\"enter the studen's name : \")\n",
        "  if name == ' ' :\n",
        "    break\n",
        "\n",
        "  score = int(input(\"enter the student score(0-10) :\"))\n",
        "  if score not in range(0,11):\n",
        "    break\n",
        "\n",
        "  if name in scholl_class:\n",
        "    school_class[name] += (score,)\n",
        "\n",
        "  else:\n",
        "    school_class[name] = (score,)\n",
        "    \n",
        "for name in sorted(school_class.keys()):\n",
        "  adding =0\n",
        "  counter = 0\n",
        "  for score in school_class[name]:\n",
        "    adding += score\n",
        "    counter += 1\n",
        "  print(name, \":\", adding/counter)\n",
        "\n"
      ],
      "metadata": {
        "colab": {
          "base_uri": "https://localhost:8080/",
          "height": 262
        },
        "id": "_nBIpw25iHuS",
        "outputId": "9df59c11-a5a0-4ce1-80b9-07156c5f3f7b"
      },
      "execution_count": 28,
      "outputs": [
        {
          "name": "stdout",
          "output_type": "stream",
          "text": [
            "enter the studen's name : yuli\n",
            "enter the student score(0-10) :8\n"
          ]
        },
        {
          "output_type": "error",
          "ename": "NameError",
          "evalue": "ignored",
          "traceback": [
            "\u001b[0;31m---------------------------------------------------------------------------\u001b[0m",
            "\u001b[0;31mNameError\u001b[0m                                 Traceback (most recent call last)",
            "\u001b[0;32m<ipython-input-28-b9737215aa4f>\u001b[0m in \u001b[0;36m<module>\u001b[0;34m()\u001b[0m\n\u001b[1;32m      8\u001b[0m     \u001b[0;32mbreak\u001b[0m\u001b[0;34m\u001b[0m\u001b[0;34m\u001b[0m\u001b[0m\n\u001b[1;32m      9\u001b[0m \u001b[0;34m\u001b[0m\u001b[0m\n\u001b[0;32m---> 10\u001b[0;31m   \u001b[0;32mif\u001b[0m \u001b[0mname\u001b[0m \u001b[0;32min\u001b[0m \u001b[0mscholl_class\u001b[0m\u001b[0;34m:\u001b[0m\u001b[0;34m\u001b[0m\u001b[0;34m\u001b[0m\u001b[0m\n\u001b[0m\u001b[1;32m     11\u001b[0m     \u001b[0mschool_class\u001b[0m\u001b[0;34m[\u001b[0m\u001b[0mname\u001b[0m\u001b[0;34m]\u001b[0m \u001b[0;34m+=\u001b[0m \u001b[0;34m(\u001b[0m\u001b[0mscore\u001b[0m\u001b[0;34m,\u001b[0m\u001b[0;34m)\u001b[0m\u001b[0;34m\u001b[0m\u001b[0;34m\u001b[0m\u001b[0m\n\u001b[1;32m     12\u001b[0m \u001b[0;34m\u001b[0m\u001b[0m\n",
            "\u001b[0;31mNameError\u001b[0m: name 'scholl_class' is not defined"
          ]
        }
      ]
    },
    {
      "cell_type": "code",
      "source": [
        "try:\n",
        "  value =int(input('enter a natural number:'))\n",
        "  print(\"the reciprocal of\", value ,'is',1/value)\n",
        "except:\n",
        "  print(' i do not know what to do')\n"
      ],
      "metadata": {
        "id": "MrFih50JoxOP",
        "outputId": "d69ba994-9d9a-4238-9de8-7e98f38186e7",
        "colab": {
          "base_uri": "https://localhost:8080/"
        }
      },
      "execution_count": 22,
      "outputs": [
        {
          "output_type": "stream",
          "name": "stdout",
          "text": [
            "enter a natural number:5\n",
            "the reciprocal of 5 is 0.2\n"
          ]
        }
      ]
    },
    {
      "cell_type": "code",
      "source": [
        "while True:\n",
        "  try:\n",
        "    number =int(input('enter an int number :'))\n",
        "    print(5/number)\n",
        "    break\n",
        "\n",
        "  except ValueError:\n",
        "    print('wrong value.')\n",
        "  except ZeroDivisionError:\n",
        "    print('sorry, i cannot divide by zero.')\n",
        "  except:\n",
        "    print('i dont know what to do.......')"
      ],
      "metadata": {
        "id": "mRD-dAN7o7tr",
        "outputId": "4c46597e-0dd0-4d07-821d-dc2474c2e223",
        "colab": {
          "base_uri": "https://localhost:8080/"
        }
      },
      "execution_count": 23,
      "outputs": [
        {
          "output_type": "stream",
          "name": "stdout",
          "text": [
            "enter an int number :7\n",
            "0.7142857142857143\n"
          ]
        }
      ]
    },
    {
      "cell_type": "code",
      "source": [
        "try:\n",
        "  value =int(input('enter a natural value:'))\n",
        "  print(value/value)\n",
        "except ValueError:\n",
        "  print(\"bad input.......\")\n",
        "except ZeroDivisionError:\n",
        "  print(\"very bad input.......\")\n",
        "except:\n",
        "  print(\"boooo!\")\n"
      ],
      "metadata": {
        "id": "MlI5yhfcp3T4",
        "outputId": "78d169f8-0034-4c63-c786-8085d1ec58d5",
        "colab": {
          "base_uri": "https://localhost:8080/"
        }
      },
      "execution_count": 24,
      "outputs": [
        {
          "output_type": "stream",
          "name": "stdout",
          "text": [
            "enter a natural value:10\n",
            "1.0\n"
          ]
        }
      ]
    }
  ]
}